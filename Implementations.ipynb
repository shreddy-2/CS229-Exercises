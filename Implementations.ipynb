{
 "cells": [
  {
   "cell_type": "markdown",
   "id": "bc5ad154-32c6-410d-9a50-78c76f11c93e",
   "metadata": {},
   "source": [
    "# Stanford CS-229 Spring 2022\n",
    "### Accompanying implementation by Sebastian Reddy"
   ]
  },
  {
   "cell_type": "markdown",
   "id": "6836e48b-dbf1-41c1-a841-78976488c601",
   "metadata": {},
   "source": [
    "## Linear Regression\n",
    "\n",
    "Data is sampled from underlying distribution $ f(\\vec{x}) $ but with some noise $ \\epsilon $ added. This gives the data as $$ \\vec{y}^{(i)} = f(\\vec{x}^{(i)}) + \\epsilon^{(i)}$$ for $ i = 1,...,n $ for $ n $ samples.\n",
    "The underlying function is linear so $f$ takes the form $$ f(\\vec{x}) = \\theta^*_0 + \\theta^*_1x_1 + \\theta^*_2x_2 = \\vec{\\theta}^\\intercal\\vec{x}$$ taking $x \\in \\mathbb{R}^2$. The vector $\\vec{x}$ has appended to it the additional value $x^{(i)}_0 = 1, \\,\\, \\forall i$. So now: $ \\vec{\\theta}, \\vec{x} \\in \\mathbb{R}^3 $.\n",
    "\n",
    "The true parameters $ \\vec{\\theta}^* = (\\theta^*_0, \\theta^*_1, \\theta^*_2)$ are unknown to us. Our goal is to find the best possible approximation to these values given only the dataset (and assuming a linear underlying function). Our best guess is our hypothesis function, parameterised by some vector $\\theta$, $$ h_{\\theta}(\\vec{x}) = \\vec{\\theta}^\\intercal\\vec{x} .$$\n",
    "\n",
    "The \"badness\" of our hypothesis function is dictated by the error function $$ J(\\vec{\\theta}) = \\frac{1}{2}\\sum^n_{i=1}(h_{\\theta}(x^{(i)}) - y^{(i)})^2 $$ over the entire data set $\\{(x^{(i)}, y^{(i)})\\} ,\\, i = 1,...,n $."
   ]
  },
  {
   "cell_type": "code",
   "execution_count": null,
   "id": "96bdd5b6-b311-4f04-bc98-9be8a1670593",
   "metadata": {},
   "outputs": [],
   "source": []
  },
  {
   "cell_type": "code",
   "execution_count": null,
   "id": "86841041-6343-428e-8256-a609664bb35a",
   "metadata": {},
   "outputs": [],
   "source": []
  }
 ],
 "metadata": {
  "kernelspec": {
   "display_name": "Python 3 (ipykernel)",
   "language": "python",
   "name": "python3"
  },
  "language_info": {
   "codemirror_mode": {
    "name": "ipython",
    "version": 3
   },
   "file_extension": ".py",
   "mimetype": "text/x-python",
   "name": "python",
   "nbconvert_exporter": "python",
   "pygments_lexer": "ipython3",
   "version": "3.11.5"
  }
 },
 "nbformat": 4,
 "nbformat_minor": 5
}
